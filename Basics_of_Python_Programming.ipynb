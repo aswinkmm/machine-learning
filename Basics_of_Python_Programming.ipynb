{
  "nbformat": 4,
  "nbformat_minor": 0,
  "metadata": {
    "colab": {
      "provenance": []
    },
    "kernelspec": {
      "name": "python3",
      "display_name": "Python 3"
    },
    "language_info": {
      "name": "python"
    }
  },
  "cells": [
    {
      "cell_type": "code",
      "execution_count": null,
      "metadata": {
        "id": "QCL-IkwWHr5I"
      },
      "outputs": [],
      "source": []
    },
    {
      "cell_type": "markdown",
      "metadata": {
        "id": "EoesZvle7Hm5"
      },
      "source": [
        "# Python Basics"
      ]
    },
    {
      "cell_type": "code",
      "execution_count": null,
      "metadata": {
        "id": "iB-MY7Wy7HnJ",
        "colab": {
          "base_uri": "https://localhost:8080/"
        },
        "outputId": "4f071b27-97b5-4850-8666-c5f29cc9f5d9"
      },
      "outputs": [
        {
          "output_type": "stream",
          "name": "stdout",
          "text": [
            "Hello, Python!\n",
            "hi\n"
          ]
        }
      ],
      "source": [
        "# Printing a string\n",
        "print(\"Hello, Python!\")\n",
        "print('hi')"
      ]
    },
    {
      "cell_type": "markdown",
      "source": [],
      "metadata": {
        "id": "Dm83e3RZHTee"
      }
    },
    {
      "cell_type": "markdown",
      "metadata": {
        "id": "Sci6JqVc7Hn-"
      },
      "source": [
        "### Variables"
      ]
    },
    {
      "cell_type": "code",
      "execution_count": null,
      "metadata": {
        "id": "3HwR6qps7Hn_",
        "colab": {
          "base_uri": "https://localhost:8080/"
        },
        "outputId": "837e4966-87c2-44ff-83db-7b0cddaf5f9d"
      },
      "outputs": [
        {
          "output_type": "stream",
          "name": "stdout",
          "text": [
            "10   3.146   Hello\n"
          ]
        }
      ],
      "source": [
        "# defining a variable : In Python there is no need to mention the data type\n",
        "\n",
        "var1 = 10      # An integer assignment\n",
        "var2 = 3.146   # A floating point\n",
        "var3 = \"Hello\" # A string\n",
        "\n",
        "print(var1,' ',var2,' ',var3)"
      ]
    },
    {
      "cell_type": "code",
      "execution_count": null,
      "metadata": {
        "id": "S7fvRBGj7HoB",
        "colab": {
          "base_uri": "https://localhost:8080/"
        },
        "outputId": "8debb663-6e72-4ada-ef08-21f629efc993"
      },
      "outputs": [
        {
          "output_type": "stream",
          "name": "stdout",
          "text": [
            "Value of Pi is 3.14\n"
          ]
        }
      ],
      "source": [
        "pi = 3.14\n",
        "print (\"Value of Pi is\",pi)"
      ]
    },
    {
      "cell_type": "markdown",
      "metadata": {
        "id": "PGReTi7P7HoD"
      },
      "source": [
        "### Assignment"
      ]
    },
    {
      "cell_type": "code",
      "execution_count": null,
      "metadata": {
        "id": "kvfhPsZj7HoE",
        "colab": {
          "base_uri": "https://localhost:8080/"
        },
        "outputId": "0922bf92-a56e-4402-ced3-773fada3fd4f"
      },
      "outputs": [
        {
          "output_type": "stream",
          "name": "stdout",
          "text": [
            "1   1   1\n",
            "1   2.5   john\n"
          ]
        }
      ],
      "source": [
        "# Assigning same value to multiple variables\n",
        "\n",
        "var1 = var2 = var3 = 1\n",
        "print(var1,' ',var2,' ',var3)\n",
        "\n",
        "# Assigning Different values to variable in a single expression\n",
        "\n",
        "var1, var2, var3 = 1, 2.5, \"john\"\n",
        "print(var1,' ',var2,' ',var3)\n",
        "\n",
        "# Note: commas can be used for multi-assignments"
      ]
    },
    {
      "cell_type": "markdown",
      "metadata": {
        "id": "MeDRkoZu7HoF"
      },
      "source": [
        "### Slicing"
      ]
    },
    {
      "cell_type": "code",
      "execution_count": null,
      "metadata": {
        "id": "CBVN8bjE7HoI",
        "colab": {
          "base_uri": "https://localhost:8080/"
        },
        "outputId": "1871d6f6-afc2-4169-f574-afbf9fdd97d1"
      },
      "outputs": [
        {
          "output_type": "stream",
          "name": "stdout",
          "text": [
            "Hello World!\n",
            "H\n",
            "llo\n",
            "llo World!\n",
            "He\n",
            "Hello World!Hello World!\n",
            "Hello World!TEST\n"
          ]
        }
      ],
      "source": [
        "# String operations\n",
        "\n",
        "str = 'Hello World!'  # A string\n",
        "\n",
        "print(str)          # Prints complete string\n",
        "print(str[0])       # Prints first character of the string\n",
        "print(str[2:5])     # Prints characters starting from 3rd to 5th element\n",
        "print(str[2:])      # Prints string starting from 3rd character\n",
        "print(str[:2])\n",
        "print(str * 2)      # Prints string two times\n",
        "print(str + \"TEST\") # Prints concatenated string"
      ]
    },
    {
      "cell_type": "markdown",
      "metadata": {
        "id": "skxbfpFr7HoJ"
      },
      "source": [
        "### Data types"
      ]
    },
    {
      "cell_type": "code",
      "execution_count": null,
      "metadata": {
        "id": "IXCng9_P7HoK",
        "colab": {
          "base_uri": "https://localhost:8080/"
        },
        "outputId": "dcd7d550-d57b-4fc6-f10b-8c0db3ec8d3f"
      },
      "outputs": [
        {
          "output_type": "stream",
          "name": "stdout",
          "text": [
            "['abcd', 786, 2.23, 'john', 70.2]\n",
            "abcd\n",
            "(786, 2.23)\n"
          ]
        }
      ],
      "source": [
        "# Python Lists\n",
        "list = [ 'abcd', 786 , 2.23, 'john', 70.2 ]  # A list\n",
        "tuple = ( 'abcd', 786 , 2.23, 'john', 70.2  ) # A tuple. Tuples are immutable, i.e. cannot be edit later\n",
        "\n",
        "print(list)            # Prints complete list\n",
        "print(list[0])         # Prints first element of the list\n",
        "print(tuple[1:3])        # Prints elements starting from 2nd till 3rd \n",
        "\n",
        "list[0] = 'fgg'"
      ]
    },
    {
      "cell_type": "markdown",
      "metadata": {
        "id": "KCzz_jKh7HoL"
      },
      "source": [
        "### Exercise\n",
        "- Try assignments like $list[0] = 'csdc'$, $print(list)$ and $tuple[0] = 'csdc'$, $print(tuple)$"
      ]
    },
    {
      "cell_type": "code",
      "execution_count": null,
      "metadata": {
        "id": "lTf9prTr7HoM"
      },
      "outputs": [],
      "source": [
        "#Write your code here"
      ]
    },
    {
      "cell_type": "code",
      "execution_count": null,
      "metadata": {
        "id": "vvlFHVy57HoN",
        "colab": {
          "base_uri": "https://localhost:8080/"
        },
        "outputId": "65879e72-6c79-4a41-cb44-5971ec0dbd2f"
      },
      "outputs": [
        {
          "output_type": "stream",
          "name": "stdout",
          "text": [
            "{'jack': 4098, 'sape': 4139, 'guido': 4127}\n",
            "4098\n",
            "{'jack': 4098, 'guido': 4127, 'irv': 4127}\n",
            "dict_keys(['jack', 'guido', 'irv'])\n",
            "['guido', 'irv', 'jack']\n",
            "[4098, 4127, 4127]\n",
            "True\n",
            "False\n"
          ]
        }
      ],
      "source": [
        "# Lists are ordered sets of objects, whereas dictionaries are unordered sets. But the main difference is that items in dictionaries are accessed via keys and not via their position.\n",
        "tel = {'jack': 4098, 'sape': 4139}\n",
        "tel['guido'] = 4127\n",
        "print(tel)\n",
        "print(tel['jack'])\n",
        "del tel['sape']\n",
        "tel['irv'] = 4127\n",
        "print(tel)\n",
        "print(tel.keys())\n",
        "print(sorted(tel.keys()))\n",
        "print(sorted(tel.values()))\n",
        "print('guido' in tel)\n",
        "print('jack' not in tel)"
      ]
    },
    {
      "cell_type": "code",
      "source": [
        "list[0]='csdc'\n",
        "print(list)\n",
        "tuple[0]='csdc' # 'tuple' object does not support item assignment\n",
        "print(tuple)"
      ],
      "metadata": {
        "id": "ZDgJsjkO7mrt",
        "outputId": "42174c1b-1665-4882-bcdb-d1e3926431f3",
        "colab": {
          "base_uri": "https://localhost:8080/",
          "height": 235
        }
      },
      "execution_count": null,
      "outputs": [
        {
          "output_type": "stream",
          "name": "stdout",
          "text": [
            "['csdc', 786, 2.23, 'john', 70.2]\n"
          ]
        },
        {
          "output_type": "error",
          "ename": "TypeError",
          "evalue": "ignored",
          "traceback": [
            "\u001b[0;31m---------------------------------------------------------------------------\u001b[0m",
            "\u001b[0;31mTypeError\u001b[0m                                 Traceback (most recent call last)",
            "\u001b[0;32m<ipython-input-40-d7fb3974b891>\u001b[0m in \u001b[0;36m<cell line: 3>\u001b[0;34m()\u001b[0m\n\u001b[1;32m      1\u001b[0m \u001b[0mlist\u001b[0m\u001b[0;34m[\u001b[0m\u001b[0;36m0\u001b[0m\u001b[0;34m]\u001b[0m\u001b[0;34m=\u001b[0m\u001b[0;34m'csdc'\u001b[0m\u001b[0;34m\u001b[0m\u001b[0;34m\u001b[0m\u001b[0m\n\u001b[1;32m      2\u001b[0m \u001b[0mprint\u001b[0m\u001b[0;34m(\u001b[0m\u001b[0mlist\u001b[0m\u001b[0;34m)\u001b[0m\u001b[0;34m\u001b[0m\u001b[0;34m\u001b[0m\u001b[0m\n\u001b[0;32m----> 3\u001b[0;31m \u001b[0mtuple\u001b[0m\u001b[0;34m[\u001b[0m\u001b[0;36m0\u001b[0m\u001b[0;34m]\u001b[0m\u001b[0;34m=\u001b[0m\u001b[0;34m'csdc'\u001b[0m\u001b[0;34m\u001b[0m\u001b[0;34m\u001b[0m\u001b[0m\n\u001b[0m\u001b[1;32m      4\u001b[0m \u001b[0mprint\u001b[0m\u001b[0;34m(\u001b[0m\u001b[0mtuple\u001b[0m\u001b[0;34m)\u001b[0m\u001b[0;34m\u001b[0m\u001b[0;34m\u001b[0m\u001b[0m\n",
            "\u001b[0;31mTypeError\u001b[0m: 'tuple' object does not support item assignment"
          ]
        }
      ]
    },
    {
      "cell_type": "markdown",
      "metadata": {
        "id": "U9loKF7T7HoO"
      },
      "source": [
        "###  Conditioning and looping"
      ]
    },
    {
      "cell_type": "code",
      "execution_count": null,
      "metadata": {
        "id": "ParVof2j7HoP",
        "colab": {
          "base_uri": "https://localhost:8080/"
        },
        "outputId": "0eda4a7f-5df5-4602-a04d-bfd8a5b02e97"
      },
      "outputs": [
        {
          "output_type": "stream",
          "name": "stdout",
          "text": [
            "Square of  0  is : 0\n",
            "1 is an odd number\n",
            "Square of  2  is : 4\n",
            "3 is an odd number\n",
            "Square of  4  is : 16\n",
            "5 is an odd number\n",
            "Square of  6  is : 36\n",
            "7 is an odd number\n",
            "Square of  8  is : 64\n",
            "9 is an odd number\n"
          ]
        }
      ],
      "source": [
        "# Square of even numbers\n",
        "\n",
        "for i in range(0,10):\n",
        "    \n",
        "    if i%2 == 0:\n",
        "        print(\"Square of \",i,\" is :\",i*i)\n",
        "        \n",
        "    else:\n",
        "        print(i,\"is an odd number\")    "
      ]
    },
    {
      "cell_type": "markdown",
      "metadata": {
        "id": "PhOUiHOs7HoQ"
      },
      "source": [
        "### Built-in Functions"
      ]
    },
    {
      "cell_type": "code",
      "execution_count": null,
      "metadata": {
        "id": "O6851Avh7HoR",
        "colab": {
          "base_uri": "https://localhost:8080/"
        },
        "outputId": "02b39fc6-9d66-468d-ddd9-5ef228848120"
      },
      "outputs": [
        {
          "output_type": "stream",
          "name": "stdout",
          "text": [
            "Sum of array:  10\n",
            "Length of array:  4\n",
            "Absolute value:  1234\n",
            "Round value:  1\n",
            "Log value:  2.302585092994046\n"
          ]
        }
      ],
      "source": [
        "print(\"Sum of array: \",sum([1,2,3,4]))\n",
        "print(\"Length of array: \",len([1,2,3,4]))\n",
        "print(\"Absolute value: \",abs(-1234))\n",
        "print(\"Round value: \",round(1.2234))\n",
        "\n",
        "import math as mt      # importing a package\n",
        "print(\"Log value: \",mt.log(10))"
      ]
    },
    {
      "cell_type": "markdown",
      "metadata": {
        "id": "i53ZzPRx7HoR"
      },
      "source": [
        "\n",
        "\n",
        "```\n",
        "# This is formatted as code\n",
        "```\n",
        "\n",
        "### Functions"
      ]
    },
    {
      "cell_type": "code",
      "execution_count": null,
      "metadata": {
        "id": "xdsFYKwS7HoS",
        "colab": {
          "base_uri": "https://localhost:8080/"
        },
        "outputId": "59c8af8f-ea7e-46c4-9de8-73455fd6ac98"
      },
      "outputs": [
        {
          "output_type": "stream",
          "name": "stdout",
          "text": [
            "Area of rectangle: 200\n"
          ]
        }
      ],
      "source": [
        "def area(length,width):\n",
        "    return length*width\n",
        "are = area(10,20)\n",
        "print(\"Area of rectangle:\",are)"
      ]
    },
    {
      "cell_type": "markdown",
      "source": [],
      "metadata": {
        "id": "SxNB6w4oJPzi"
      }
    },
    {
      "cell_type": "markdown",
      "metadata": {
        "collapsed": true,
        "id": "JQMwhqjR7HoT"
      },
      "source": [
        "### Broadcasting\n",
        "* Subject to certain constraints, the smaller array is “broadcast” across the larger array so that they have compatible shapes\n",
        "\n",
        "### NumPy \n",
        "* Numpy is the fundamental package for numerical computing with Python. It contains among other things:\n",
        "* a powerful N-dimensional array object\n",
        "* sophisticated (broadcasting) functions\n",
        "* tools for integrating C/C++ and Fortran code\n",
        "\n",
        "* useful linear algebra, Fourier transform, and random number capabilities\n",
        "* Details of <a href=\"https://docs.scipy.org/doc/numpy/contents.html\">numpy</a>"
      ]
    },
    {
      "cell_type": "code",
      "execution_count": null,
      "metadata": {
        "id": "LzeLoPLp7HoU",
        "colab": {
          "base_uri": "https://localhost:8080/"
        },
        "outputId": "8e66bce5-ea33-423e-eae4-b8c1f60ba1fe"
      },
      "outputs": [
        {
          "output_type": "stream",
          "name": "stdout",
          "text": [
            "Matrix A\n",
            " [0 1 2]\n",
            "Matrix B\n",
            " [5 5 5]\n",
            "Regular matrix addition A+B\n",
            " [5 6 7]\n",
            "Addition using Broadcasting A+5\n",
            " [5 6 7]\n"
          ]
        }
      ],
      "source": [
        "import numpy as np   # Importing libraries\n",
        "\n",
        "a = np.array([0, 1, 2])\n",
        "b = np.array([5, 5, 5])\n",
        "\n",
        "print(\"Matrix A\\n\", a)\n",
        "print(\"Matrix B\\n\", b)\n",
        "\n",
        "print(\"Regular matrix addition A+B\\n\", a + b)\n",
        "\n",
        "print(\"Addition using Broadcasting A+5\\n\", a + 5)"
      ]
    },
    {
      "cell_type": "markdown",
      "source": [],
      "metadata": {
        "id": "KmxtpbRySWWt"
      }
    },
    {
      "cell_type": "markdown",
      "metadata": {
        "id": "MudEPZgM7HoV"
      },
      "source": [
        "### Broadcasting Rules\n",
        "When operating on two arrays, NumPy compares their shapes element-wise. It starts with the trailing dimensions, and works its way forward. Two dimensions are compatible when\n",
        "\n",
        "1. they are equal, or\n",
        "2.  one of them is 1\n"
      ]
    },
    {
      "cell_type": "code",
      "execution_count": null,
      "metadata": {
        "id": "SWUpP7CX7HoZ",
        "colab": {
          "base_uri": "https://localhost:8080/"
        },
        "outputId": "9ab28248-fcb5-4b90-e47d-96c963c17196"
      },
      "outputs": [
        {
          "output_type": "stream",
          "name": "stdout",
          "text": [
            "Matrix C\n",
            " [[0 1 2]\n",
            " [3 4 5]\n",
            " [6 7 8]]\n",
            "Matrix D\n",
            " [[1 2 3]\n",
            " [1 2 3]\n",
            " [1 2 3]]\n",
            "Matrix E\n",
            " [1 2 3]\n",
            "Regular matrix addition C+D\n",
            " [[ 1  3  5]\n",
            " [ 4  6  8]\n",
            " [ 7  9 11]]\n",
            "Addition using Broadcasting C+E\n",
            " [[ 1  3  5]\n",
            " [ 4  6  8]\n",
            " [ 7  9 11]]\n"
          ]
        }
      ],
      "source": [
        "# Lets go for a 2D matrix\n",
        "c = np.array([[0, 1, 2],[3, 4, 5],[6, 7, 8]])\n",
        "d = np.array([[1, 2, 3],[1, 2, 3],[1, 2, 3]])\n",
        "\n",
        "e = np.array([1, 2, 3])\n",
        "\n",
        "print(\"Matrix C\\n\", c)\n",
        "print(\"Matrix D\\n\", d)\n",
        "print(\"Matrix E\\n\", e)\n",
        "\n",
        "print(\"Regular matrix addition C+D\\n\", c + d)\n",
        "\n",
        "print(\"Addition using Broadcasting C+E\\n\", c + e)"
      ]
    },
    {
      "cell_type": "code",
      "execution_count": null,
      "metadata": {
        "id": "kjb-IHd77HoZ",
        "colab": {
          "base_uri": "https://localhost:8080/"
        },
        "outputId": "a77873e9-916a-4d20-beea-8105c690ff9d"
      },
      "outputs": [
        {
          "output_type": "stream",
          "name": "stdout",
          "text": [
            "Matrix M:\n",
            " [[1. 1. 1.]\n",
            " [1. 1. 1.]\n",
            " [1. 1. 1.]]\n"
          ]
        }
      ],
      "source": [
        "M = np.ones((3, 3))\n",
        "print(\"Matrix M:\\n\",M)"
      ]
    },
    {
      "cell_type": "code",
      "execution_count": null,
      "metadata": {
        "colab": {
          "base_uri": "https://localhost:8080/"
        },
        "outputId": "60e25578-6b4a-40ea-8373-7046b3ee2398",
        "id": "WsYMUcgpJ_UI"
      },
      "outputs": [
        {
          "output_type": "stream",
          "name": "stdout",
          "text": [
            "Matrix C\n",
            " [[0 1 2]\n",
            " [3 4 5]\n",
            " [6 7 8]]\n",
            "Matrix D\n",
            " [[1 2 3]\n",
            " [1 2 3]\n",
            " [1 2 3]]\n",
            "Matrix E\n",
            " [1 2 3]\n",
            "Regular matrix addition C+D\n",
            " [[ 1  3  5]\n",
            " [ 4  6  8]\n",
            " [ 7  9 11]]\n",
            "Addition using Broadcasting C+E\n",
            " [[ 1  3  5]\n",
            " [ 4  6  8]\n",
            " [ 7  9 11]]\n"
          ]
        }
      ],
      "source": [
        "# Lets go for a 2D matrix\n",
        "c = np.array([[0, 1, 2],[3, 4, 5],[6, 7, 8]])\n",
        "d = np.array([[1, 2, 3],[1, 2, 3],[1, 2, 3]])\n",
        "\n",
        "e = np.array([1, 2, 3])\n",
        "\n",
        "print(\"Matrix C\\n\", c)\n",
        "print(\"Matrix D\\n\", d)\n",
        "print(\"Matrix E\\n\", e)\n",
        "\n",
        "print(\"Regular matrix addition C+D\\n\", c + d)\n",
        "\n",
        "print(\"Addition using Broadcasting C+E\\n\", c + e)"
      ]
    },
    {
      "cell_type": "code",
      "execution_count": null,
      "metadata": {
        "scrolled": true,
        "id": "SGuqMAK27Hoa",
        "colab": {
          "base_uri": "https://localhost:8080/"
        },
        "outputId": "604d306f-9632-4b32-93fa-71b7ca2498dd"
      },
      "outputs": [
        {
          "output_type": "stream",
          "name": "stdout",
          "text": [
            "Matrix M:\n",
            " [[1. 1. 1.]\n",
            " [1. 1. 1.]\n",
            " [1. 1. 1.]]\n"
          ]
        }
      ],
      "source": [
        "M = np.ones((3, 3))\n",
        "print(\"Matrix M:\\n\",M)"
      ]
    },
    {
      "cell_type": "markdown",
      "metadata": {
        "id": "4oiEH0Lm7Hob"
      },
      "source": [
        "## All in one program"
      ]
    },
    {
      "cell_type": "code",
      "execution_count": null,
      "metadata": {
        "id": "n3FhRFQZ7Hob",
        "colab": {
          "base_uri": "https://localhost:8080/"
        },
        "outputId": "9da0dbdd-1361-4f84-e3ac-6b025af4ea79"
      },
      "outputs": [
        {
          "output_type": "stream",
          "name": "stdout",
          "text": [
            "Original List [10, 11, 15, 19, 21, 32] \n",
            "\n",
            "10 is not a prime number ( 2 times 5 is 10 )\n",
            "11 is a prime number\n",
            "15 is not a prime number ( 3 times 5 is 15 )\n",
            "19 is a prime number\n",
            "21 is not a prime number ( 3 times 7 is 21 )\n",
            "32 is not a prime number ( 2 times 16 is 32 )\n",
            "\n",
            "Non-prime List [10, 15, 21, 32] \n",
            "\n",
            "Time Taken to run the program: 0.008781826000003434 seconds\n"
          ]
        }
      ],
      "source": [
        "# Importing libraries\n",
        "import timeit\n",
        "\n",
        "# Usage of builtin functions\n",
        "start = timeit.default_timer()   \n",
        "\n",
        "# Defining a list\n",
        "array_list = [10,11,15,19,21,32]      \n",
        "array_np_list = []\n",
        "\n",
        "# Print the list\n",
        "print(\"Original List\",array_list,\"\\n\")   \n",
        "\n",
        "# Defining a function\n",
        "def prime(num):      \n",
        "    if num > 1:     \n",
        "        \n",
        "        # check for factors\n",
        "        # Iterating a range of numbers\n",
        "        for i in range(2,num):    \n",
        "            if (num % i) == 0:\n",
        "                \n",
        "                # Appending data to list\n",
        "                array_np_list.append(num)           \n",
        "                print(num,\"is not a prime number (\",i,\"times\",num//i,\"is\",num,\")\")\n",
        "                \n",
        "                # Terminating a loop run\n",
        "                break         \n",
        "        else:\n",
        "            print(num,\"is a prime number\")\n",
        "            \n",
        "# Iterating a list\n",
        "for item in array_list:\n",
        "    \n",
        "    # Calling a function\n",
        "    prime(item)         \n",
        "\n",
        "print(\"\\nNon-prime List\",array_np_list,\"\\n\")\n",
        "\n",
        "end = timeit.default_timer()\n",
        "\n",
        "# Computing running time\n",
        "print(\"Time Taken to run the program:\",end - start, \"seconds\")       "
      ]
    },
    {
      "cell_type": "markdown",
      "metadata": {
        "id": "pFJUnsli7Hoc"
      },
      "source": [
        "### Note:\n",
        "* Python is a procedural Language\n",
        "* Two versions of Python 2 vs 3\n",
        "* No braces. i.e. indentation\n",
        "* No need to explicitly mention data type"
      ]
    },
    {
      "cell_type": "markdown",
      "metadata": {
        "id": "CEjcY-8v7Hod"
      },
      "source": [
        "## Unvectorized vs Vectorized Implementations"
      ]
    },
    {
      "cell_type": "code",
      "execution_count": null,
      "metadata": {
        "id": "Te58LL7n7Hod",
        "colab": {
          "base_uri": "https://localhost:8080/"
        },
        "outputId": "904ff557-d558-4bf7-9346-835b12beb7ab"
      },
      "outputs": [
        {
          "output_type": "stream",
          "name": "stdout",
          "text": [
            "Matrix A:  [[6, 7, 8], [5, 4, 5], [1, 1, 1]] \n",
            "\n",
            "Matrix B:  [[1, 2, 3], [1, 2, 3], [1, 2, 3]] \n",
            "\n",
            "Unvectorized Matrix Multiplication\n",
            " [[21, 42, 63], [14, 28, 42], [3, 6, 9]] \n",
            "\n"
          ]
        }
      ],
      "source": [
        "# Importing libraries\n",
        "import numpy as np\n",
        "\n",
        "# Defining matrices\n",
        "mat_a = [[6, 7, 8],[5, 4, 5],[1, 1, 1]]\n",
        "mat_b = [[1, 2, 3],[1, 2, 3],[1, 2, 3]]\n",
        "\n",
        "# Getting a row from matrix\n",
        "def get_row(matrix, row):\n",
        "    return matrix[row]\n",
        "\n",
        "# Getting a coloumn from matrix\n",
        "def get_column(matrix, column_number):\n",
        "    column = []\n",
        " \n",
        "    for i in range(len(matrix)):\n",
        "        column.append(matrix[i][column_number])\n",
        " \n",
        "    return column\n",
        "\n",
        "# Multiply a row with coloumn\n",
        "def unv_dot_product(vector_one, vector_two):\n",
        "    total = 0\n",
        " \n",
        "    if len(vector_one) != len(vector_two):\n",
        "        return total\n",
        " \n",
        "    for i in range(len(vector_one)):\n",
        "        product = vector_one[i] * vector_two[i]\n",
        "        total += product\n",
        " \n",
        "    return total\n",
        "\n",
        "# Multiply two matrixes\n",
        "def matrix_multiplication(matrix_one, matrix_two):\n",
        "    m_rows = len(matrix_one)\n",
        "    p_columns = len(matrix_two[0])\n",
        "    result = []\n",
        "    \n",
        "    for i in range(m_rows):\n",
        "        row_result = []\n",
        " \n",
        "        for j in range(p_columns):\n",
        "            row = get_row(matrix_one, i)\n",
        "            column = get_column(matrix_two, j)\n",
        "            product = unv_dot_product(row, column)\n",
        "            \n",
        "            row_result.append(product) \n",
        "        result.append(row_result)\n",
        "        \n",
        "    return result\n",
        "\n",
        "print(\"Matrix A: \", mat_a,\"\\n\")\n",
        "print(\"Matrix B: \", mat_b,\"\\n\")\n",
        "#mat_a.dot(mat_b)\n",
        "print(\"Unvectorized Matrix Multiplication\\n\",matrix_multiplication(mat_a,mat_b),\"\\n\")\n"
      ]
    },
    {
      "cell_type": "code",
      "execution_count": null,
      "metadata": {
        "id": "JB-GjEFn7Hoe",
        "colab": {
          "base_uri": "https://localhost:8080/"
        },
        "outputId": "532a4234-0211-4f5a-ee50-f350f846edff"
      },
      "outputs": [
        {
          "output_type": "stream",
          "name": "stdout",
          "text": [
            "Vectorized Matrix Multiplication\n",
            " [[21 42 63]\n",
            " [14 28 42]\n",
            " [ 3  6  9]] \n",
            "\n"
          ]
        }
      ],
      "source": [
        "# Vectorized Implementation\n",
        "npm_a = np.array(mat_a)\n",
        "npm_b = np.array(mat_b)\n",
        "\n",
        "print(\"Vectorized Matrix Multiplication\\n\",npm_a.dot(npm_b),\"\\n\") \n",
        "# A.dot(B) is a numpy built-in function for dot product"
      ]
    },
    {
      "cell_type": "markdown",
      "metadata": {
        "id": "QRDBFzCt7Hof"
      },
      "source": [
        "### Tip:\n",
        "* Vectorization reduces number of lines of code\n",
        "* Always prefer libraries and avoid coding from scratch"
      ]
    },
    {
      "cell_type": "markdown",
      "metadata": {
        "id": "5nUxN9xQ7Hof"
      },
      "source": [
        "## Essential Python Packages: Numpy, Pandas, Matplotlib\n"
      ]
    },
    {
      "cell_type": "code",
      "execution_count": null,
      "metadata": {
        "id": "A4R_IJob7Hog"
      },
      "outputs": [],
      "source": [
        "# Load library\n",
        "import numpy as np"
      ]
    },
    {
      "cell_type": "code",
      "execution_count": null,
      "metadata": {
        "id": "TZRUSKEw7Hog",
        "colab": {
          "base_uri": "https://localhost:8080/"
        },
        "outputId": "0338e549-8ad6-4ff5-d168-bc99e46528f9"
      },
      "outputs": [
        {
          "output_type": "stream",
          "name": "stdout",
          "text": [
            "Vector: [1 2 3 4 5 6]\n",
            "Element 2 in Vector is 2\n"
          ]
        }
      ],
      "source": [
        "# Create row vector\n",
        "vector = np.array([1, 2, 3, 4, 5, 6])\n",
        "print(\"Vector:\",vector)\n",
        "\n",
        "# Select second element\n",
        "print(\"Element 2 in Vector is\",vector[1])"
      ]
    },
    {
      "cell_type": "code",
      "execution_count": null,
      "metadata": {
        "id": "nHmrJuBX7Hoh",
        "colab": {
          "base_uri": "https://localhost:8080/"
        },
        "outputId": "81cac125-0e3e-44e0-93f9-f3cc95f33b5d"
      },
      "outputs": [
        {
          "output_type": "stream",
          "name": "stdout",
          "text": [
            "Matrix\n",
            " [[1 2 3]\n",
            " [4 5 6]\n",
            " [7 8 9]]\n",
            "Second row of Matrix\n",
            " [4 5 6]\n",
            "Third coloumn of Matrix\n",
            " [3 6 9]\n"
          ]
        }
      ],
      "source": [
        "# Create matrix\n",
        "matrix = np.array([[1, 2, 3],\n",
        "                   [4, 5, 6],\n",
        "                   [7, 8, 9]])\n",
        "\n",
        "print(\"Matrix\\n\",matrix)\n",
        "\n",
        "# Select second row\n",
        "print(\"Second row of Matrix\\n\",matrix[1,:])\n",
        "print(\"Third coloumn of Matrix\\n\",matrix[:,2])"
      ]
    },
    {
      "cell_type": "code",
      "execution_count": null,
      "metadata": {
        "id": "MnoPlhkW7Hoi",
        "colab": {
          "base_uri": "https://localhost:8080/"
        },
        "outputId": "0cc74682-011c-4d8f-b159-77efc07243c4"
      },
      "outputs": [
        {
          "output_type": "stream",
          "name": "stdout",
          "text": [
            "Tensor\n",
            " [[[[1 1]\n",
            "   [1 1]]\n",
            "\n",
            "  [[2 2]\n",
            "   [2 2]]]\n",
            "\n",
            "\n",
            " [[[3 3]\n",
            "   [3 3]]\n",
            "\n",
            "  [[4 4]\n",
            "   [4 4]]]]\n"
          ]
        }
      ],
      "source": [
        "# Create Tensor\n",
        "tensor = np.array([ [[[1, 1], [1, 1]], [[2, 2], [2, 2]]],\n",
        "                    [[[3, 3], [3, 3]], [[4, 4], [4, 4]]] ])\n",
        "\n",
        "print(\"Tensor\\n\",tensor)"
      ]
    },
    {
      "cell_type": "markdown",
      "metadata": {
        "id": "RXuNUrKc7Hoi"
      },
      "source": [
        "### Matrix properties"
      ]
    },
    {
      "cell_type": "code",
      "execution_count": null,
      "metadata": {
        "id": "_0W9VXoh7Ho6",
        "colab": {
          "base_uri": "https://localhost:8080/"
        },
        "outputId": "c91b6448-4414-4c21-f194-fc04e16e6b4a"
      },
      "outputs": [
        {
          "output_type": "stream",
          "name": "stdout",
          "text": [
            "Matrix Shape: (3, 3)\n",
            "Number of elements: 9\n",
            "Number of dimentions: 2\n",
            "Average of matrix: 5.0\n",
            "Maximum number: 9\n",
            "Coloumn with minimum numbers: [1 4 7]\n",
            "Diagnol of matrix: [1 5 9]\n",
            "Determinant of matrix: 0.0\n"
          ]
        }
      ],
      "source": [
        "# Create matrix\n",
        "matrix = np.array([[1, 2, 3],\n",
        "                   [4, 5, 6],\n",
        "                   [7, 8, 9]])\n",
        "\n",
        "print(\"Matrix Shape:\",matrix.shape)\n",
        "print(\"Number of elements:\",matrix.size)\n",
        "print(\"Number of dimentions:\",matrix.ndim)\n",
        "print(\"Average of matrix:\",np.mean(matrix))\n",
        "print(\"Maximum number:\",np.max(matrix))\n",
        "print(\"Coloumn with minimum numbers:\",np.min(matrix, axis=1))\n",
        "print(\"Diagnol of matrix:\",matrix.diagonal())\n",
        "print(\"Determinant of matrix:\",np.linalg.det(matrix))"
      ]
    },
    {
      "cell_type": "markdown",
      "metadata": {
        "id": "vVwelktv7Ho7"
      },
      "source": [
        "### Matrix Operations"
      ]
    },
    {
      "cell_type": "code",
      "execution_count": null,
      "metadata": {
        "id": "5s7B6cSG7Ho7",
        "colab": {
          "base_uri": "https://localhost:8080/"
        },
        "outputId": "4293eeba-cc3f-45cf-8c2e-a6e85eee9a41"
      },
      "outputs": [
        {
          "output_type": "stream",
          "name": "stdout",
          "text": [
            "Flattened Matrix\n",
            " [1 2 3 4 5 6 7 8 9]\n",
            "Reshaping Matrix\n",
            " [[1]\n",
            " [2]\n",
            " [3]\n",
            " [4]\n",
            " [5]\n",
            " [6]\n",
            " [7]\n",
            " [8]\n",
            " [9]]\n",
            "Transposed Matrix\n",
            " [[1 4 7]\n",
            " [2 5 8]\n",
            " [3 6 9]]\n"
          ]
        }
      ],
      "source": [
        "print(\"Flattened Matrix\\n\",matrix.flatten())\n",
        "print(\"Reshaping Matrix\\n\",matrix.reshape(9,1))\n",
        "print(\"Transposed Matrix\\n\",matrix.T)"
      ]
    },
    {
      "cell_type": "code",
      "execution_count": null,
      "metadata": {
        "id": "HyH_pLuH7Ho7",
        "colab": {
          "base_uri": "https://localhost:8080/"
        },
        "outputId": "850a6ed4-f30b-4eac-fa55-8357da222a26"
      },
      "outputs": [
        {
          "output_type": "stream",
          "name": "stdout",
          "text": [
            "Matrix Addition\n",
            " [[ 2  4  2]\n",
            " [ 2  4  2]\n",
            " [ 2  4 10]]\n",
            "Scalar Multiplication\n",
            " [[ 1  3  1]\n",
            " [ 1  3  1]\n",
            " [ 1  3 16]]\n",
            "Matrix Multiplication\n",
            " [[ 3  9 10]\n",
            " [ 3  9 10]\n",
            " [ 4 12 18]]\n"
          ]
        }
      ],
      "source": [
        "# Create matrix\n",
        "matrix_a = np.array([[1, 1, 1],\n",
        "                     [1, 1, 1],\n",
        "                     [1, 1, 2]])\n",
        "\n",
        "# Create matrix\n",
        "matrix_b = np.array([[1, 3, 1],\n",
        "                     [1, 3, 1],\n",
        "                     [1, 3, 8]])\n",
        "\n",
        "print(\"Matrix Addition\\n\",np.add(matrix_a, matrix_b))\n",
        "print(\"Scalar Multiplication\\n\",np.multiply(matrix_a, matrix_b))\n",
        "print(\"Matrix Multiplication\\n\",np.dot(matrix_a, matrix_b))"
      ]
    },
    {
      "cell_type": "markdown",
      "metadata": {
        "id": "C4HWehxw7Ho8"
      },
      "source": [
        "### Pandas\n",
        "Details of <a href=\"https://pandas.pydata.org/pandas-docs/stable/tutorials.html\"> pandas </a>"
      ]
    },
    {
      "cell_type": "code",
      "execution_count": null,
      "metadata": {
        "id": "TwNmvjZA7Ho8"
      },
      "outputs": [],
      "source": [
        "import pandas as pd"
      ]
    },
    {
      "cell_type": "code",
      "source": [],
      "metadata": {
        "id": "czqSTTadf9vU"
      },
      "execution_count": null,
      "outputs": []
    },
    {
      "cell_type": "code",
      "execution_count": null,
      "metadata": {
        "id": "U37H1wvA7Ho9",
        "colab": {
          "base_uri": "https://localhost:8080/",
          "height": 680
        },
        "outputId": "605eea2f-e2eb-413e-9503-d135228cbd21"
      },
      "outputs": [
        {
          "output_type": "stream",
          "name": "stdout",
          "text": [
            "Data\n",
            "\n"
          ]
        },
        {
          "output_type": "execute_result",
          "data": {
            "text/plain": [
              "        ID  Income Category Place\n",
              "0    QSPD1  491282        A   PKN\n",
              "1    QSPD2  471283        A   IND\n",
              "2    QSPD3  340922        A   PKN\n",
              "3    QSPD4  201982        A   IND\n",
              "4    QSPD5  467411        B   PKN\n",
              "5    QSPD6  235213        B   IND\n",
              "6    QSPD7  349655        B   PKN\n",
              "7    QSPD8  136889        B   IND\n",
              "8    QSPD9  202381        C   PKN\n",
              "9   QSPD10  165088        C   IND\n",
              "10  QSPD11  262719        C   PKN\n",
              "11  QSPD12  238013        C   IND\n",
              "12  QSPD13  493651        T   PKN\n",
              "13  QSPD14  489394        T   IND\n",
              "14  QSPD15  202417        T   PKN\n",
              "15  QSPD16  353774        G   IND\n",
              "16  QSPD17  367731        G   PKN\n",
              "17  QSPD18  295396        G   IND\n",
              "18  QSPD19  472732        G   PKN"
            ],
            "text/html": [
              "\n",
              "  <div id=\"df-0ef2a139-b427-40e9-b3ae-530053890c0f\">\n",
              "    <div class=\"colab-df-container\">\n",
              "      <div>\n",
              "<style scoped>\n",
              "    .dataframe tbody tr th:only-of-type {\n",
              "        vertical-align: middle;\n",
              "    }\n",
              "\n",
              "    .dataframe tbody tr th {\n",
              "        vertical-align: top;\n",
              "    }\n",
              "\n",
              "    .dataframe thead th {\n",
              "        text-align: right;\n",
              "    }\n",
              "</style>\n",
              "<table border=\"1\" class=\"dataframe\">\n",
              "  <thead>\n",
              "    <tr style=\"text-align: right;\">\n",
              "      <th></th>\n",
              "      <th>ID</th>\n",
              "      <th>Income</th>\n",
              "      <th>Category</th>\n",
              "      <th>Place</th>\n",
              "    </tr>\n",
              "  </thead>\n",
              "  <tbody>\n",
              "    <tr>\n",
              "      <th>0</th>\n",
              "      <td>QSPD1</td>\n",
              "      <td>491282</td>\n",
              "      <td>A</td>\n",
              "      <td>PKN</td>\n",
              "    </tr>\n",
              "    <tr>\n",
              "      <th>1</th>\n",
              "      <td>QSPD2</td>\n",
              "      <td>471283</td>\n",
              "      <td>A</td>\n",
              "      <td>IND</td>\n",
              "    </tr>\n",
              "    <tr>\n",
              "      <th>2</th>\n",
              "      <td>QSPD3</td>\n",
              "      <td>340922</td>\n",
              "      <td>A</td>\n",
              "      <td>PKN</td>\n",
              "    </tr>\n",
              "    <tr>\n",
              "      <th>3</th>\n",
              "      <td>QSPD4</td>\n",
              "      <td>201982</td>\n",
              "      <td>A</td>\n",
              "      <td>IND</td>\n",
              "    </tr>\n",
              "    <tr>\n",
              "      <th>4</th>\n",
              "      <td>QSPD5</td>\n",
              "      <td>467411</td>\n",
              "      <td>B</td>\n",
              "      <td>PKN</td>\n",
              "    </tr>\n",
              "    <tr>\n",
              "      <th>5</th>\n",
              "      <td>QSPD6</td>\n",
              "      <td>235213</td>\n",
              "      <td>B</td>\n",
              "      <td>IND</td>\n",
              "    </tr>\n",
              "    <tr>\n",
              "      <th>6</th>\n",
              "      <td>QSPD7</td>\n",
              "      <td>349655</td>\n",
              "      <td>B</td>\n",
              "      <td>PKN</td>\n",
              "    </tr>\n",
              "    <tr>\n",
              "      <th>7</th>\n",
              "      <td>QSPD8</td>\n",
              "      <td>136889</td>\n",
              "      <td>B</td>\n",
              "      <td>IND</td>\n",
              "    </tr>\n",
              "    <tr>\n",
              "      <th>8</th>\n",
              "      <td>QSPD9</td>\n",
              "      <td>202381</td>\n",
              "      <td>C</td>\n",
              "      <td>PKN</td>\n",
              "    </tr>\n",
              "    <tr>\n",
              "      <th>9</th>\n",
              "      <td>QSPD10</td>\n",
              "      <td>165088</td>\n",
              "      <td>C</td>\n",
              "      <td>IND</td>\n",
              "    </tr>\n",
              "    <tr>\n",
              "      <th>10</th>\n",
              "      <td>QSPD11</td>\n",
              "      <td>262719</td>\n",
              "      <td>C</td>\n",
              "      <td>PKN</td>\n",
              "    </tr>\n",
              "    <tr>\n",
              "      <th>11</th>\n",
              "      <td>QSPD12</td>\n",
              "      <td>238013</td>\n",
              "      <td>C</td>\n",
              "      <td>IND</td>\n",
              "    </tr>\n",
              "    <tr>\n",
              "      <th>12</th>\n",
              "      <td>QSPD13</td>\n",
              "      <td>493651</td>\n",
              "      <td>T</td>\n",
              "      <td>PKN</td>\n",
              "    </tr>\n",
              "    <tr>\n",
              "      <th>13</th>\n",
              "      <td>QSPD14</td>\n",
              "      <td>489394</td>\n",
              "      <td>T</td>\n",
              "      <td>IND</td>\n",
              "    </tr>\n",
              "    <tr>\n",
              "      <th>14</th>\n",
              "      <td>QSPD15</td>\n",
              "      <td>202417</td>\n",
              "      <td>T</td>\n",
              "      <td>PKN</td>\n",
              "    </tr>\n",
              "    <tr>\n",
              "      <th>15</th>\n",
              "      <td>QSPD16</td>\n",
              "      <td>353774</td>\n",
              "      <td>G</td>\n",
              "      <td>IND</td>\n",
              "    </tr>\n",
              "    <tr>\n",
              "      <th>16</th>\n",
              "      <td>QSPD17</td>\n",
              "      <td>367731</td>\n",
              "      <td>G</td>\n",
              "      <td>PKN</td>\n",
              "    </tr>\n",
              "    <tr>\n",
              "      <th>17</th>\n",
              "      <td>QSPD18</td>\n",
              "      <td>295396</td>\n",
              "      <td>G</td>\n",
              "      <td>IND</td>\n",
              "    </tr>\n",
              "    <tr>\n",
              "      <th>18</th>\n",
              "      <td>QSPD19</td>\n",
              "      <td>472732</td>\n",
              "      <td>G</td>\n",
              "      <td>PKN</td>\n",
              "    </tr>\n",
              "  </tbody>\n",
              "</table>\n",
              "</div>\n",
              "      <button class=\"colab-df-convert\" onclick=\"convertToInteractive('df-0ef2a139-b427-40e9-b3ae-530053890c0f')\"\n",
              "              title=\"Convert this dataframe to an interactive table.\"\n",
              "              style=\"display:none;\">\n",
              "        \n",
              "  <svg xmlns=\"http://www.w3.org/2000/svg\" height=\"24px\"viewBox=\"0 0 24 24\"\n",
              "       width=\"24px\">\n",
              "    <path d=\"M0 0h24v24H0V0z\" fill=\"none\"/>\n",
              "    <path d=\"M18.56 5.44l.94 2.06.94-2.06 2.06-.94-2.06-.94-.94-2.06-.94 2.06-2.06.94zm-11 1L8.5 8.5l.94-2.06 2.06-.94-2.06-.94L8.5 2.5l-.94 2.06-2.06.94zm10 10l.94 2.06.94-2.06 2.06-.94-2.06-.94-.94-2.06-.94 2.06-2.06.94z\"/><path d=\"M17.41 7.96l-1.37-1.37c-.4-.4-.92-.59-1.43-.59-.52 0-1.04.2-1.43.59L10.3 9.45l-7.72 7.72c-.78.78-.78 2.05 0 2.83L4 21.41c.39.39.9.59 1.41.59.51 0 1.02-.2 1.41-.59l7.78-7.78 2.81-2.81c.8-.78.8-2.07 0-2.86zM5.41 20L4 18.59l7.72-7.72 1.47 1.35L5.41 20z\"/>\n",
              "  </svg>\n",
              "      </button>\n",
              "      \n",
              "  <style>\n",
              "    .colab-df-container {\n",
              "      display:flex;\n",
              "      flex-wrap:wrap;\n",
              "      gap: 12px;\n",
              "    }\n",
              "\n",
              "    .colab-df-convert {\n",
              "      background-color: #E8F0FE;\n",
              "      border: none;\n",
              "      border-radius: 50%;\n",
              "      cursor: pointer;\n",
              "      display: none;\n",
              "      fill: #1967D2;\n",
              "      height: 32px;\n",
              "      padding: 0 0 0 0;\n",
              "      width: 32px;\n",
              "    }\n",
              "\n",
              "    .colab-df-convert:hover {\n",
              "      background-color: #E2EBFA;\n",
              "      box-shadow: 0px 1px 2px rgba(60, 64, 67, 0.3), 0px 1px 3px 1px rgba(60, 64, 67, 0.15);\n",
              "      fill: #174EA6;\n",
              "    }\n",
              "\n",
              "    [theme=dark] .colab-df-convert {\n",
              "      background-color: #3B4455;\n",
              "      fill: #D2E3FC;\n",
              "    }\n",
              "\n",
              "    [theme=dark] .colab-df-convert:hover {\n",
              "      background-color: #434B5C;\n",
              "      box-shadow: 0px 1px 3px 1px rgba(0, 0, 0, 0.15);\n",
              "      filter: drop-shadow(0px 1px 2px rgba(0, 0, 0, 0.3));\n",
              "      fill: #FFFFFF;\n",
              "    }\n",
              "  </style>\n",
              "\n",
              "      <script>\n",
              "        const buttonEl =\n",
              "          document.querySelector('#df-0ef2a139-b427-40e9-b3ae-530053890c0f button.colab-df-convert');\n",
              "        buttonEl.style.display =\n",
              "          google.colab.kernel.accessAllowed ? 'block' : 'none';\n",
              "\n",
              "        async function convertToInteractive(key) {\n",
              "          const element = document.querySelector('#df-0ef2a139-b427-40e9-b3ae-530053890c0f');\n",
              "          const dataTable =\n",
              "            await google.colab.kernel.invokeFunction('convertToInteractive',\n",
              "                                                     [key], {});\n",
              "          if (!dataTable) return;\n",
              "\n",
              "          const docLinkHtml = 'Like what you see? Visit the ' +\n",
              "            '<a target=\"_blank\" href=https://colab.research.google.com/notebooks/data_table.ipynb>data table notebook</a>'\n",
              "            + ' to learn more about interactive tables.';\n",
              "          element.innerHTML = '';\n",
              "          dataTable['output_type'] = 'display_data';\n",
              "          await google.colab.output.renderOutput(dataTable, element);\n",
              "          const docLink = document.createElement('div');\n",
              "          docLink.innerHTML = docLinkHtml;\n",
              "          element.appendChild(docLink);\n",
              "        }\n",
              "      </script>\n",
              "    </div>\n",
              "  </div>\n",
              "  "
            ]
          },
          "metadata": {},
          "execution_count": 28
        }
      ],
      "source": [
        "df=pd.read_csv(\"https://raw.githubusercontent.com/sijuswamy/Basic-Python-for-Machine-Learning/main/Income.csv\")# load a file from github\n",
        "print(\"Data\\n\")\n",
        "df"
      ]
    },
    {
      "cell_type": "code",
      "execution_count": null,
      "metadata": {
        "id": "-gXVNPEI7Ho9",
        "colab": {
          "base_uri": "https://localhost:8080/",
          "height": 84
        },
        "outputId": "e4a84d7a-ba75-4469-f08a-ddf53905d082"
      },
      "outputs": [
        {
          "output_type": "stream",
          "name": "stdout",
          "text": [
            "Top Elements\n",
            "\n"
          ]
        },
        {
          "output_type": "execute_result",
          "data": {
            "text/plain": [
              "Empty DataFrame\n",
              "Columns: [ID, Income, Category, Place]\n",
              "Index: []"
            ],
            "text/html": [
              "\n",
              "  <div id=\"df-39dd216b-66e3-473c-969e-a0c1e468071a\">\n",
              "    <div class=\"colab-df-container\">\n",
              "      <div>\n",
              "<style scoped>\n",
              "    .dataframe tbody tr th:only-of-type {\n",
              "        vertical-align: middle;\n",
              "    }\n",
              "\n",
              "    .dataframe tbody tr th {\n",
              "        vertical-align: top;\n",
              "    }\n",
              "\n",
              "    .dataframe thead th {\n",
              "        text-align: right;\n",
              "    }\n",
              "</style>\n",
              "<table border=\"1\" class=\"dataframe\">\n",
              "  <thead>\n",
              "    <tr style=\"text-align: right;\">\n",
              "      <th></th>\n",
              "      <th>ID</th>\n",
              "      <th>Income</th>\n",
              "      <th>Category</th>\n",
              "      <th>Place</th>\n",
              "    </tr>\n",
              "  </thead>\n",
              "  <tbody>\n",
              "  </tbody>\n",
              "</table>\n",
              "</div>\n",
              "      <button class=\"colab-df-convert\" onclick=\"convertToInteractive('df-39dd216b-66e3-473c-969e-a0c1e468071a')\"\n",
              "              title=\"Convert this dataframe to an interactive table.\"\n",
              "              style=\"display:none;\">\n",
              "        \n",
              "  <svg xmlns=\"http://www.w3.org/2000/svg\" height=\"24px\"viewBox=\"0 0 24 24\"\n",
              "       width=\"24px\">\n",
              "    <path d=\"M0 0h24v24H0V0z\" fill=\"none\"/>\n",
              "    <path d=\"M18.56 5.44l.94 2.06.94-2.06 2.06-.94-2.06-.94-.94-2.06-.94 2.06-2.06.94zm-11 1L8.5 8.5l.94-2.06 2.06-.94-2.06-.94L8.5 2.5l-.94 2.06-2.06.94zm10 10l.94 2.06.94-2.06 2.06-.94-2.06-.94-.94-2.06-.94 2.06-2.06.94z\"/><path d=\"M17.41 7.96l-1.37-1.37c-.4-.4-.92-.59-1.43-.59-.52 0-1.04.2-1.43.59L10.3 9.45l-7.72 7.72c-.78.78-.78 2.05 0 2.83L4 21.41c.39.39.9.59 1.41.59.51 0 1.02-.2 1.41-.59l7.78-7.78 2.81-2.81c.8-.78.8-2.07 0-2.86zM5.41 20L4 18.59l7.72-7.72 1.47 1.35L5.41 20z\"/>\n",
              "  </svg>\n",
              "      </button>\n",
              "      \n",
              "  <style>\n",
              "    .colab-df-container {\n",
              "      display:flex;\n",
              "      flex-wrap:wrap;\n",
              "      gap: 12px;\n",
              "    }\n",
              "\n",
              "    .colab-df-convert {\n",
              "      background-color: #E8F0FE;\n",
              "      border: none;\n",
              "      border-radius: 50%;\n",
              "      cursor: pointer;\n",
              "      display: none;\n",
              "      fill: #1967D2;\n",
              "      height: 32px;\n",
              "      padding: 0 0 0 0;\n",
              "      width: 32px;\n",
              "    }\n",
              "\n",
              "    .colab-df-convert:hover {\n",
              "      background-color: #E2EBFA;\n",
              "      box-shadow: 0px 1px 2px rgba(60, 64, 67, 0.3), 0px 1px 3px 1px rgba(60, 64, 67, 0.15);\n",
              "      fill: #174EA6;\n",
              "    }\n",
              "\n",
              "    [theme=dark] .colab-df-convert {\n",
              "      background-color: #3B4455;\n",
              "      fill: #D2E3FC;\n",
              "    }\n",
              "\n",
              "    [theme=dark] .colab-df-convert:hover {\n",
              "      background-color: #434B5C;\n",
              "      box-shadow: 0px 1px 3px 1px rgba(0, 0, 0, 0.15);\n",
              "      filter: drop-shadow(0px 1px 2px rgba(0, 0, 0, 0.3));\n",
              "      fill: #FFFFFF;\n",
              "    }\n",
              "  </style>\n",
              "\n",
              "      <script>\n",
              "        const buttonEl =\n",
              "          document.querySelector('#df-39dd216b-66e3-473c-969e-a0c1e468071a button.colab-df-convert');\n",
              "        buttonEl.style.display =\n",
              "          google.colab.kernel.accessAllowed ? 'block' : 'none';\n",
              "\n",
              "        async function convertToInteractive(key) {\n",
              "          const element = document.querySelector('#df-39dd216b-66e3-473c-969e-a0c1e468071a');\n",
              "          const dataTable =\n",
              "            await google.colab.kernel.invokeFunction('convertToInteractive',\n",
              "                                                     [key], {});\n",
              "          if (!dataTable) return;\n",
              "\n",
              "          const docLinkHtml = 'Like what you see? Visit the ' +\n",
              "            '<a target=\"_blank\" href=https://colab.research.google.com/notebooks/data_table.ipynb>data table notebook</a>'\n",
              "            + ' to learn more about interactive tables.';\n",
              "          element.innerHTML = '';\n",
              "          dataTable['output_type'] = 'display_data';\n",
              "          await google.colab.output.renderOutput(dataTable, element);\n",
              "          const docLink = document.createElement('div');\n",
              "          docLink.innerHTML = docLinkHtml;\n",
              "          element.appendChild(docLink);\n",
              "        }\n",
              "      </script>\n",
              "    </div>\n",
              "  </div>\n",
              "  "
            ]
          },
          "metadata": {},
          "execution_count": 29
        }
      ],
      "source": [
        "print(\"Top Elements\\n\")\n",
        "df.head(0)"
      ]
    },
    {
      "cell_type": "code",
      "execution_count": null,
      "metadata": {
        "id": "lCJyC-2j7Ho9",
        "colab": {
          "base_uri": "https://localhost:8080/",
          "height": 178
        },
        "outputId": "7899ae96-6c96-4859-d655-adc4076b4a4d"
      },
      "outputs": [
        {
          "output_type": "stream",
          "name": "stdout",
          "text": [
            "Bottom Elements\n",
            "\n"
          ]
        },
        {
          "output_type": "execute_result",
          "data": {
            "text/plain": [
              "        ID  Income Category Place\n",
              "16  QSPD17  367731        G   PKN\n",
              "17  QSPD18  295396        G   IND\n",
              "18  QSPD19  472732        G   PKN"
            ],
            "text/html": [
              "\n",
              "  <div id=\"df-82ac33f5-e4bf-478c-bfc2-e37594c3254a\">\n",
              "    <div class=\"colab-df-container\">\n",
              "      <div>\n",
              "<style scoped>\n",
              "    .dataframe tbody tr th:only-of-type {\n",
              "        vertical-align: middle;\n",
              "    }\n",
              "\n",
              "    .dataframe tbody tr th {\n",
              "        vertical-align: top;\n",
              "    }\n",
              "\n",
              "    .dataframe thead th {\n",
              "        text-align: right;\n",
              "    }\n",
              "</style>\n",
              "<table border=\"1\" class=\"dataframe\">\n",
              "  <thead>\n",
              "    <tr style=\"text-align: right;\">\n",
              "      <th></th>\n",
              "      <th>ID</th>\n",
              "      <th>Income</th>\n",
              "      <th>Category</th>\n",
              "      <th>Place</th>\n",
              "    </tr>\n",
              "  </thead>\n",
              "  <tbody>\n",
              "    <tr>\n",
              "      <th>16</th>\n",
              "      <td>QSPD17</td>\n",
              "      <td>367731</td>\n",
              "      <td>G</td>\n",
              "      <td>PKN</td>\n",
              "    </tr>\n",
              "    <tr>\n",
              "      <th>17</th>\n",
              "      <td>QSPD18</td>\n",
              "      <td>295396</td>\n",
              "      <td>G</td>\n",
              "      <td>IND</td>\n",
              "    </tr>\n",
              "    <tr>\n",
              "      <th>18</th>\n",
              "      <td>QSPD19</td>\n",
              "      <td>472732</td>\n",
              "      <td>G</td>\n",
              "      <td>PKN</td>\n",
              "    </tr>\n",
              "  </tbody>\n",
              "</table>\n",
              "</div>\n",
              "      <button class=\"colab-df-convert\" onclick=\"convertToInteractive('df-82ac33f5-e4bf-478c-bfc2-e37594c3254a')\"\n",
              "              title=\"Convert this dataframe to an interactive table.\"\n",
              "              style=\"display:none;\">\n",
              "        \n",
              "  <svg xmlns=\"http://www.w3.org/2000/svg\" height=\"24px\"viewBox=\"0 0 24 24\"\n",
              "       width=\"24px\">\n",
              "    <path d=\"M0 0h24v24H0V0z\" fill=\"none\"/>\n",
              "    <path d=\"M18.56 5.44l.94 2.06.94-2.06 2.06-.94-2.06-.94-.94-2.06-.94 2.06-2.06.94zm-11 1L8.5 8.5l.94-2.06 2.06-.94-2.06-.94L8.5 2.5l-.94 2.06-2.06.94zm10 10l.94 2.06.94-2.06 2.06-.94-2.06-.94-.94-2.06-.94 2.06-2.06.94z\"/><path d=\"M17.41 7.96l-1.37-1.37c-.4-.4-.92-.59-1.43-.59-.52 0-1.04.2-1.43.59L10.3 9.45l-7.72 7.72c-.78.78-.78 2.05 0 2.83L4 21.41c.39.39.9.59 1.41.59.51 0 1.02-.2 1.41-.59l7.78-7.78 2.81-2.81c.8-.78.8-2.07 0-2.86zM5.41 20L4 18.59l7.72-7.72 1.47 1.35L5.41 20z\"/>\n",
              "  </svg>\n",
              "      </button>\n",
              "      \n",
              "  <style>\n",
              "    .colab-df-container {\n",
              "      display:flex;\n",
              "      flex-wrap:wrap;\n",
              "      gap: 12px;\n",
              "    }\n",
              "\n",
              "    .colab-df-convert {\n",
              "      background-color: #E8F0FE;\n",
              "      border: none;\n",
              "      border-radius: 50%;\n",
              "      cursor: pointer;\n",
              "      display: none;\n",
              "      fill: #1967D2;\n",
              "      height: 32px;\n",
              "      padding: 0 0 0 0;\n",
              "      width: 32px;\n",
              "    }\n",
              "\n",
              "    .colab-df-convert:hover {\n",
              "      background-color: #E2EBFA;\n",
              "      box-shadow: 0px 1px 2px rgba(60, 64, 67, 0.3), 0px 1px 3px 1px rgba(60, 64, 67, 0.15);\n",
              "      fill: #174EA6;\n",
              "    }\n",
              "\n",
              "    [theme=dark] .colab-df-convert {\n",
              "      background-color: #3B4455;\n",
              "      fill: #D2E3FC;\n",
              "    }\n",
              "\n",
              "    [theme=dark] .colab-df-convert:hover {\n",
              "      background-color: #434B5C;\n",
              "      box-shadow: 0px 1px 3px 1px rgba(0, 0, 0, 0.15);\n",
              "      filter: drop-shadow(0px 1px 2px rgba(0, 0, 0, 0.3));\n",
              "      fill: #FFFFFF;\n",
              "    }\n",
              "  </style>\n",
              "\n",
              "      <script>\n",
              "        const buttonEl =\n",
              "          document.querySelector('#df-82ac33f5-e4bf-478c-bfc2-e37594c3254a button.colab-df-convert');\n",
              "        buttonEl.style.display =\n",
              "          google.colab.kernel.accessAllowed ? 'block' : 'none';\n",
              "\n",
              "        async function convertToInteractive(key) {\n",
              "          const element = document.querySelector('#df-82ac33f5-e4bf-478c-bfc2-e37594c3254a');\n",
              "          const dataTable =\n",
              "            await google.colab.kernel.invokeFunction('convertToInteractive',\n",
              "                                                     [key], {});\n",
              "          if (!dataTable) return;\n",
              "\n",
              "          const docLinkHtml = 'Like what you see? Visit the ' +\n",
              "            '<a target=\"_blank\" href=https://colab.research.google.com/notebooks/data_table.ipynb>data table notebook</a>'\n",
              "            + ' to learn more about interactive tables.';\n",
              "          element.innerHTML = '';\n",
              "          dataTable['output_type'] = 'display_data';\n",
              "          await google.colab.output.renderOutput(dataTable, element);\n",
              "          const docLink = document.createElement('div');\n",
              "          docLink.innerHTML = docLinkHtml;\n",
              "          element.appendChild(docLink);\n",
              "        }\n",
              "      </script>\n",
              "    </div>\n",
              "  </div>\n",
              "  "
            ]
          },
          "metadata": {},
          "execution_count": 30
        }
      ],
      "source": [
        "print(\"Bottom Elements\\n\")\n",
        "df.tail(3)"
      ]
    },
    {
      "cell_type": "code",
      "execution_count": null,
      "metadata": {
        "id": "Z7wNqUE17Ho-",
        "colab": {
          "base_uri": "https://localhost:8080/"
        },
        "outputId": "0f6ed9bc-a0c7-4491-c355-981bce58d4d9"
      },
      "outputs": [
        {
          "output_type": "stream",
          "name": "stdout",
          "text": [
            "Specific Coloumn\n",
            "\n"
          ]
        },
        {
          "output_type": "execute_result",
          "data": {
            "text/plain": [
              "0    A\n",
              "1    A\n",
              "2    A\n",
              "Name: Category, dtype: object"
            ]
          },
          "metadata": {},
          "execution_count": 31
        }
      ],
      "source": [
        "print(\"Specific Coloumn\\n\")\n",
        "df['Category'].head(3)"
      ]
    },
    {
      "cell_type": "code",
      "execution_count": null,
      "metadata": {
        "id": "Iqfvphj-7Ho-",
        "colab": {
          "base_uri": "https://localhost:8080/",
          "height": 680
        },
        "outputId": "5f419c63-80c8-4546-f68a-33d52a3cc3c2"
      },
      "outputs": [
        {
          "output_type": "stream",
          "name": "stdout",
          "text": [
            "Replace negative numbers with NaN\n",
            "\n"
          ]
        },
        {
          "output_type": "execute_result",
          "data": {
            "text/plain": [
              "        ID  Income Category Place\n",
              "0    QSPD1  491282        A   PKN\n",
              "1    QSPD2  471283        A   IND\n",
              "2    QSPD3  340922        A   PKN\n",
              "3    QSPD4  201982        A   IND\n",
              "4    QSPD5  467411        B   PKN\n",
              "5    QSPD6  235213        B   IND\n",
              "6    QSPD7  349655        B   PKN\n",
              "7    QSPD8  136889        B   IND\n",
              "8    QSPD9  202381        C   PKN\n",
              "9   QSPD10  165088        C   IND\n",
              "10  QSPD11  262719        C   PKN\n",
              "11  QSPD12  238013        C   IND\n",
              "12  QSPD13  493651        T   PKN\n",
              "13  QSPD14  489394        T   IND\n",
              "14  QSPD15  202417        T   PKN\n",
              "15  QSPD16  353774        G   IND\n",
              "16  QSPD17  367731        G   PKN\n",
              "17  QSPD18  295396        G   IND\n",
              "18  QSPD19  472732        G   PKN"
            ],
            "text/html": [
              "\n",
              "  <div id=\"df-ee1bd509-c89d-4178-8772-b2c50b23a2bf\">\n",
              "    <div class=\"colab-df-container\">\n",
              "      <div>\n",
              "<style scoped>\n",
              "    .dataframe tbody tr th:only-of-type {\n",
              "        vertical-align: middle;\n",
              "    }\n",
              "\n",
              "    .dataframe tbody tr th {\n",
              "        vertical-align: top;\n",
              "    }\n",
              "\n",
              "    .dataframe thead th {\n",
              "        text-align: right;\n",
              "    }\n",
              "</style>\n",
              "<table border=\"1\" class=\"dataframe\">\n",
              "  <thead>\n",
              "    <tr style=\"text-align: right;\">\n",
              "      <th></th>\n",
              "      <th>ID</th>\n",
              "      <th>Income</th>\n",
              "      <th>Category</th>\n",
              "      <th>Place</th>\n",
              "    </tr>\n",
              "  </thead>\n",
              "  <tbody>\n",
              "    <tr>\n",
              "      <th>0</th>\n",
              "      <td>QSPD1</td>\n",
              "      <td>491282</td>\n",
              "      <td>A</td>\n",
              "      <td>PKN</td>\n",
              "    </tr>\n",
              "    <tr>\n",
              "      <th>1</th>\n",
              "      <td>QSPD2</td>\n",
              "      <td>471283</td>\n",
              "      <td>A</td>\n",
              "      <td>IND</td>\n",
              "    </tr>\n",
              "    <tr>\n",
              "      <th>2</th>\n",
              "      <td>QSPD3</td>\n",
              "      <td>340922</td>\n",
              "      <td>A</td>\n",
              "      <td>PKN</td>\n",
              "    </tr>\n",
              "    <tr>\n",
              "      <th>3</th>\n",
              "      <td>QSPD4</td>\n",
              "      <td>201982</td>\n",
              "      <td>A</td>\n",
              "      <td>IND</td>\n",
              "    </tr>\n",
              "    <tr>\n",
              "      <th>4</th>\n",
              "      <td>QSPD5</td>\n",
              "      <td>467411</td>\n",
              "      <td>B</td>\n",
              "      <td>PKN</td>\n",
              "    </tr>\n",
              "    <tr>\n",
              "      <th>5</th>\n",
              "      <td>QSPD6</td>\n",
              "      <td>235213</td>\n",
              "      <td>B</td>\n",
              "      <td>IND</td>\n",
              "    </tr>\n",
              "    <tr>\n",
              "      <th>6</th>\n",
              "      <td>QSPD7</td>\n",
              "      <td>349655</td>\n",
              "      <td>B</td>\n",
              "      <td>PKN</td>\n",
              "    </tr>\n",
              "    <tr>\n",
              "      <th>7</th>\n",
              "      <td>QSPD8</td>\n",
              "      <td>136889</td>\n",
              "      <td>B</td>\n",
              "      <td>IND</td>\n",
              "    </tr>\n",
              "    <tr>\n",
              "      <th>8</th>\n",
              "      <td>QSPD9</td>\n",
              "      <td>202381</td>\n",
              "      <td>C</td>\n",
              "      <td>PKN</td>\n",
              "    </tr>\n",
              "    <tr>\n",
              "      <th>9</th>\n",
              "      <td>QSPD10</td>\n",
              "      <td>165088</td>\n",
              "      <td>C</td>\n",
              "      <td>IND</td>\n",
              "    </tr>\n",
              "    <tr>\n",
              "      <th>10</th>\n",
              "      <td>QSPD11</td>\n",
              "      <td>262719</td>\n",
              "      <td>C</td>\n",
              "      <td>PKN</td>\n",
              "    </tr>\n",
              "    <tr>\n",
              "      <th>11</th>\n",
              "      <td>QSPD12</td>\n",
              "      <td>238013</td>\n",
              "      <td>C</td>\n",
              "      <td>IND</td>\n",
              "    </tr>\n",
              "    <tr>\n",
              "      <th>12</th>\n",
              "      <td>QSPD13</td>\n",
              "      <td>493651</td>\n",
              "      <td>T</td>\n",
              "      <td>PKN</td>\n",
              "    </tr>\n",
              "    <tr>\n",
              "      <th>13</th>\n",
              "      <td>QSPD14</td>\n",
              "      <td>489394</td>\n",
              "      <td>T</td>\n",
              "      <td>IND</td>\n",
              "    </tr>\n",
              "    <tr>\n",
              "      <th>14</th>\n",
              "      <td>QSPD15</td>\n",
              "      <td>202417</td>\n",
              "      <td>T</td>\n",
              "      <td>PKN</td>\n",
              "    </tr>\n",
              "    <tr>\n",
              "      <th>15</th>\n",
              "      <td>QSPD16</td>\n",
              "      <td>353774</td>\n",
              "      <td>G</td>\n",
              "      <td>IND</td>\n",
              "    </tr>\n",
              "    <tr>\n",
              "      <th>16</th>\n",
              "      <td>QSPD17</td>\n",
              "      <td>367731</td>\n",
              "      <td>G</td>\n",
              "      <td>PKN</td>\n",
              "    </tr>\n",
              "    <tr>\n",
              "      <th>17</th>\n",
              "      <td>QSPD18</td>\n",
              "      <td>295396</td>\n",
              "      <td>G</td>\n",
              "      <td>IND</td>\n",
              "    </tr>\n",
              "    <tr>\n",
              "      <th>18</th>\n",
              "      <td>QSPD19</td>\n",
              "      <td>472732</td>\n",
              "      <td>G</td>\n",
              "      <td>PKN</td>\n",
              "    </tr>\n",
              "  </tbody>\n",
              "</table>\n",
              "</div>\n",
              "      <button class=\"colab-df-convert\" onclick=\"convertToInteractive('df-ee1bd509-c89d-4178-8772-b2c50b23a2bf')\"\n",
              "              title=\"Convert this dataframe to an interactive table.\"\n",
              "              style=\"display:none;\">\n",
              "        \n",
              "  <svg xmlns=\"http://www.w3.org/2000/svg\" height=\"24px\"viewBox=\"0 0 24 24\"\n",
              "       width=\"24px\">\n",
              "    <path d=\"M0 0h24v24H0V0z\" fill=\"none\"/>\n",
              "    <path d=\"M18.56 5.44l.94 2.06.94-2.06 2.06-.94-2.06-.94-.94-2.06-.94 2.06-2.06.94zm-11 1L8.5 8.5l.94-2.06 2.06-.94-2.06-.94L8.5 2.5l-.94 2.06-2.06.94zm10 10l.94 2.06.94-2.06 2.06-.94-2.06-.94-.94-2.06-.94 2.06-2.06.94z\"/><path d=\"M17.41 7.96l-1.37-1.37c-.4-.4-.92-.59-1.43-.59-.52 0-1.04.2-1.43.59L10.3 9.45l-7.72 7.72c-.78.78-.78 2.05 0 2.83L4 21.41c.39.39.9.59 1.41.59.51 0 1.02-.2 1.41-.59l7.78-7.78 2.81-2.81c.8-.78.8-2.07 0-2.86zM5.41 20L4 18.59l7.72-7.72 1.47 1.35L5.41 20z\"/>\n",
              "  </svg>\n",
              "      </button>\n",
              "      \n",
              "  <style>\n",
              "    .colab-df-container {\n",
              "      display:flex;\n",
              "      flex-wrap:wrap;\n",
              "      gap: 12px;\n",
              "    }\n",
              "\n",
              "    .colab-df-convert {\n",
              "      background-color: #E8F0FE;\n",
              "      border: none;\n",
              "      border-radius: 50%;\n",
              "      cursor: pointer;\n",
              "      display: none;\n",
              "      fill: #1967D2;\n",
              "      height: 32px;\n",
              "      padding: 0 0 0 0;\n",
              "      width: 32px;\n",
              "    }\n",
              "\n",
              "    .colab-df-convert:hover {\n",
              "      background-color: #E2EBFA;\n",
              "      box-shadow: 0px 1px 2px rgba(60, 64, 67, 0.3), 0px 1px 3px 1px rgba(60, 64, 67, 0.15);\n",
              "      fill: #174EA6;\n",
              "    }\n",
              "\n",
              "    [theme=dark] .colab-df-convert {\n",
              "      background-color: #3B4455;\n",
              "      fill: #D2E3FC;\n",
              "    }\n",
              "\n",
              "    [theme=dark] .colab-df-convert:hover {\n",
              "      background-color: #434B5C;\n",
              "      box-shadow: 0px 1px 3px 1px rgba(0, 0, 0, 0.15);\n",
              "      filter: drop-shadow(0px 1px 2px rgba(0, 0, 0, 0.3));\n",
              "      fill: #FFFFFF;\n",
              "    }\n",
              "  </style>\n",
              "\n",
              "      <script>\n",
              "        const buttonEl =\n",
              "          document.querySelector('#df-ee1bd509-c89d-4178-8772-b2c50b23a2bf button.colab-df-convert');\n",
              "        buttonEl.style.display =\n",
              "          google.colab.kernel.accessAllowed ? 'block' : 'none';\n",
              "\n",
              "        async function convertToInteractive(key) {\n",
              "          const element = document.querySelector('#df-ee1bd509-c89d-4178-8772-b2c50b23a2bf');\n",
              "          const dataTable =\n",
              "            await google.colab.kernel.invokeFunction('convertToInteractive',\n",
              "                                                     [key], {});\n",
              "          if (!dataTable) return;\n",
              "\n",
              "          const docLinkHtml = 'Like what you see? Visit the ' +\n",
              "            '<a target=\"_blank\" href=https://colab.research.google.com/notebooks/data_table.ipynb>data table notebook</a>'\n",
              "            + ' to learn more about interactive tables.';\n",
              "          element.innerHTML = '';\n",
              "          dataTable['output_type'] = 'display_data';\n",
              "          await google.colab.output.renderOutput(dataTable, element);\n",
              "          const docLink = document.createElement('div');\n",
              "          docLink.innerHTML = docLinkHtml;\n",
              "          element.appendChild(docLink);\n",
              "        }\n",
              "      </script>\n",
              "    </div>\n",
              "  </div>\n",
              "  "
            ]
          },
          "metadata": {},
          "execution_count": 32
        }
      ],
      "source": [
        "print(\"Replace negative numbers with NaN\\n\")\n",
        "df.replace(-999,np.nan)"
      ]
    },
    {
      "cell_type": "markdown",
      "metadata": {
        "id": "6uRFILhP7Ho_"
      },
      "source": [
        "## Matplotlib\n",
        "Details of <a href=\"https://matplotlib.org/api/index.html\" > matplotlib </a>"
      ]
    },
    {
      "cell_type": "code",
      "execution_count": null,
      "metadata": {
        "id": "euzykQKw7Ho_"
      },
      "outputs": [],
      "source": [
        "import matplotlib.pyplot as plt\n",
        "import matplotlib.mlab as mlab"
      ]
    },
    {
      "cell_type": "markdown",
      "metadata": {
        "id": "vsHrgSPv7HpA"
      },
      "source": [
        "### Line Plot"
      ]
    },
    {
      "cell_type": "code",
      "execution_count": null,
      "metadata": {
        "scrolled": true,
        "id": "3h6ndVbT7HpA",
        "colab": {
          "base_uri": "https://localhost:8080/",
          "height": 449
        },
        "outputId": "5b00895b-e1e2-4e0b-df4f-c97e06261a42"
      },
      "outputs": [
        {
          "output_type": "display_data",
          "data": {
            "text/plain": [
              "<Figure size 640x480 with 1 Axes>"
            ],
            "image/png": "[encoded data removed]"
          },
          "metadata": {}
        }
      ],
      "source": [
        "# Line plot\n",
        "plt.plot([1,2,3,4],[1,4,5,6])\n",
        "plt.xlabel('some numbers')\n",
        "plt.ylabel('some numbers')\n",
        "plt.show()"
      ]
    },
    {
      "cell_type": "code",
      "execution_count": null,
      "metadata": {
        "id": "-5niWqZZ7HpA",
        "colab": {
          "base_uri": "https://localhost:8080/",
          "height": 472
        },
        "outputId": "22f8d866-1c59-498c-c0d5-0b13b84b1119"
      },
      "outputs": [
        {
          "output_type": "display_data",
          "data": {
            "text/plain": [
              "<Figure size 640x480 with 1 Axes>"
            ],
            "image/png": "[encoded data removed]"
          },
          "metadata": {}
        }
      ],
      "source": [
        "### Adding elements to line plots\n",
        "t = np.arange(0.0, 2.0, 0.01) # Generate equally space numbers between 0 and 2\n",
        "s = 1 + np.sin(2*np.pi*t)  # Apply sin function to the random numbers\n",
        "plt.plot(t, s)\n",
        "\n",
        "plt.xlabel('time (s)')\n",
        "plt.ylabel('voltage (mV)')\n",
        "plt.title('About as simple as it gets, folks')\n",
        "plt.grid(True)\n",
        "plt.savefig(\"test.png\") # Save a plot. Check the directory\n",
        "plt.show()"
      ]
    },
    {
      "cell_type": "markdown",
      "metadata": {
        "id": "ti9JAMjv7HpB"
      },
      "source": [
        "### Bar Plot"
      ]
    },
    {
      "cell_type": "code",
      "execution_count": null,
      "metadata": {
        "id": "bcpah0_O7HpB",
        "colab": {
          "base_uri": "https://localhost:8080/",
          "height": 430
        },
        "outputId": "cbdab9bc-3a0e-47d7-bf94-1daf0bf3db59"
      },
      "outputs": [
        {
          "output_type": "display_data",
          "data": {
            "text/plain": [
              "<Figure size 640x480 with 1 Axes>"
            ],
            "image/png": "[encoded data removed]"
          },
          "metadata": {}
        }
      ],
      "source": [
        "y = [3, 10, 7, 5, 3, 4.5, 6, 8.1]\n",
        "x = range(len(y))\n",
        "width = 1/1.5\n",
        "plt.bar(x, y, width, color=\"blue\")\n",
        "plt.show()"
      ]
    },
    {
      "cell_type": "markdown",
      "metadata": {
        "id": "n-LOUf907HpC"
      },
      "source": [
        "### Scatter Plot"
      ]
    },
    {
      "cell_type": "code",
      "execution_count": null,
      "metadata": {
        "scrolled": true,
        "id": "OI9U3TCV7HpC",
        "colab": {
          "base_uri": "https://localhost:8080/",
          "height": 430
        },
        "outputId": "86d80821-3342-4e55-a80d-e2be5b8f70cc"
      },
      "outputs": [
        {
          "output_type": "display_data",
          "data": {
            "text/plain": [
              "<Figure size 640x480 with 1 Axes>"
            ],
            "image/png": "[encoded data removed]"
          },
          "metadata": {}
        }
      ],
      "source": [
        "N = 50\n",
        "# Generate random numbers\n",
        "x = np.random.rand(N)\n",
        "y = np.random.rand(N)\n",
        "colors = np.random.rand(N)\n",
        "area = np.pi * (15*np.random.rand(N))**2  # 0 to 15 point radii\n",
        "\n",
        "plt.scatter(x, y, s=area, c=colors, alpha=0.5)\n",
        "plt.show()"
      ]
    },
    {
      "cell_type": "markdown",
      "metadata": {
        "id": "bdKquzpX7HpC"
      },
      "source": [
        "### Histogram"
      ]
    },
    {
      "cell_type": "code",
      "execution_count": null,
      "metadata": {
        "scrolled": true,
        "id": "X2TRkhMg7HpD",
        "colab": {
          "base_uri": "https://localhost:8080/",
          "height": 474
        },
        "outputId": "a01b87c7-86a7-4199-d063-4aa165668157"
      },
      "outputs": [
        {
          "output_type": "display_data",
          "data": {
            "text/plain": [
              "<Figure size 640x480 with 1 Axes>"
            ],
            "image/png": "[encoded data removed]"
          },
          "metadata": {}
        }
      ],
      "source": [
        "mu, sigma = 100, 15\n",
        "from scipy.stats import norm\n",
        "x = mu + sigma*np.random.randn(10000) # Generate random values with some distribution\n",
        "\n",
        "# the histogram of the data\n",
        "n, bins, patches = plt.hist(x, 50, density=2, facecolor='green', alpha=0.75)\n",
        "\n",
        "# add a 'best fit' line\n",
        "y = norm.pdf( bins, mu, sigma)\n",
        "l = plt.plot(bins, y, 'r--', linewidth=1)\n",
        "\n",
        "plt.xlabel('Smarts')\n",
        "plt.ylabel('Probability')\n",
        "plt.title(r'$\\mathrm{Histogram\\ of\\ IQ:}\\ \\mu=100,\\ \\sigma=15$')\n",
        "plt.axis([40, 160, 0, 0.03])\n",
        "plt.grid(True)\n",
        "\n",
        "plt.show()"
      ]
    },
    {
      "cell_type": "markdown",
      "metadata": {
        "id": "SBOQ1YmH7HpD"
      },
      "source": [
        "### Pie Chart"
      ]
    },
    {
      "cell_type": "code",
      "execution_count": null,
      "metadata": {
        "id": "kYHiYU_F7HpE",
        "colab": {
          "base_uri": "https://localhost:8080/",
          "height": 406
        },
        "outputId": "a3fedd2e-1ec5-4296-8da8-2ef4c90b901d"
      },
      "outputs": [
        {
          "output_type": "display_data",
          "data": {
            "text/plain": [
              "<Figure size 640x480 with 1 Axes>"
            ],
            "image/png": "[encoded data removed]"
          },
          "metadata": {}
        }
      ],
      "source": [
        "# Pie chart, where the slices will be ordered and plotted counter-clockwise:\n",
        "labels = 'Frogs', 'Hogs', 'Dogs', 'Logs'\n",
        "sizes = [15, 30, 45, 10]\n",
        "explode = (0, 0.1, 0, 0)  # only \"explode\" the 2nd slice (i.e. 'Hogs')\n",
        "\n",
        "fig1, ax1 = plt.subplots()\n",
        "ax1.pie(sizes, explode=explode, labels=labels, autopct='%1.1f%%',\n",
        "        shadow=True, startangle=90)\n",
        "ax1.axis('equal')  # Equal aspect ratio ensures that pie is drawn as a circle.\n",
        "\n",
        "plt.show()"
      ]
    },
    {
      "cell_type": "code",
      "execution_count": null,
      "metadata": {
        "id": "Rh46Gf2B7HpE"
      },
      "outputs": [],
      "source": []
    }
  ]
}